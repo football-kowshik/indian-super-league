{
 "cells": [
  {
   "cell_type": "code",
   "execution_count": null,
   "id": "d92bb339",
   "metadata": {},
   "outputs": [],
   "source": [
    "#| hide\n",
    "#| default_exp matches"
   ]
  },
  {
   "cell_type": "markdown",
   "id": "0f9ef0f7",
   "metadata": {},
   "source": [
    "# Matches\n",
    "\n",
    "> Data about ISL matches."
   ]
  },
  {
   "cell_type": "code",
   "execution_count": null,
   "id": "653a8eae",
   "metadata": {},
   "outputs": [],
   "source": [
    "#| hide\n",
    "from nbdev.showdoc import *"
   ]
  },
  {
   "cell_type": "code",
   "execution_count": null,
   "id": "4cc64e21",
   "metadata": {},
   "outputs": [],
   "source": [
    "#| export\n",
    "import os\n",
    "import json\n",
    "import datetime\n",
    "import logging\n",
    "\n",
    "import pytz\n",
    "import requests\n",
    "import pandas as pd\n",
    "\n",
    "from indian_super_league.constants import *"
   ]
  },
  {
   "cell_type": "code",
   "execution_count": null,
   "id": "3bcb53c5",
   "metadata": {},
   "outputs": [],
   "source": []
  },
  {
   "cell_type": "code",
   "execution_count": null,
   "id": "fad102f3",
   "metadata": {},
   "outputs": [],
   "source": [
    "#| export\n",
    "def fetch_matches():\n",
    "    url = 'https://www.indiansuperleague.com/default.aspx?methodtype=3&client=3747164737&sport=2&league=india_sl_stats&timezone=0530&language=&tournament=india_sl_stats_2024'\n",
    "    headers = {\n",
    "        'accept': '*/*',\n",
    "        'referer': 'https://www.indiansuperleague.com/',\n",
    "        'user-agent': 'Mozilla/5.0'\n",
    "    }\n",
    "    r = requests.get(url, headers=headers)\n",
    "    if r.status_code == 200:\n",
    "        logging.info(f\"API request successful. Content length: {len(r.content)}\")\n",
    "        return r.text\n",
    "    logging.error(f\"API request failed. Status code: {r.status_code}\")\n",
    "    return None"
   ]
  },
  {
   "cell_type": "code",
   "execution_count": null,
   "id": "215ea759",
   "metadata": {},
   "outputs": [],
   "source": [
    "#| eval: false\n",
    "#| output: false\n",
    "matches_data = fetch_matches()\n",
    "print(json.dumps(json.loads(matches_data), indent = 4))"
   ]
  },
  {
   "cell_type": "code",
   "execution_count": null,
   "id": "e1e6fcb3",
   "metadata": {},
   "outputs": [],
   "source": []
  },
  {
   "cell_type": "code",
   "execution_count": null,
   "id": "e38e7bb1",
   "metadata": {},
   "outputs": [],
   "source": [
    "#| export\n",
    "def save_matches(data, filepath):\n",
    "    if data:\n",
    "        os.makedirs(os.path.dirname(filepath), exist_ok=True)\n",
    "        with open(filepath, 'a') as f:\n",
    "            f.write(data + \"\\n\")"
   ]
  },
  {
   "cell_type": "code",
   "execution_count": null,
   "id": "1b11c8f8",
   "metadata": {},
   "outputs": [],
   "source": [
    "#| eval: false\n",
    "#| output: false\n",
    "save_matches(matches_data, filepath = data_dir / 'matches.txt')"
   ]
  },
  {
   "cell_type": "code",
   "execution_count": null,
   "id": "bf8406dc",
   "metadata": {},
   "outputs": [],
   "source": []
  },
  {
   "cell_type": "code",
   "execution_count": null,
   "id": "02612136",
   "metadata": {},
   "outputs": [],
   "source": [
    "#| export\n",
    "def get_live_matches(filepath, now = datetime.datetime.now(pytz.timezone('Asia/Kolkata'))):\n",
    "    with open(filepath, 'r') as f:\n",
    "        logs = f.readlines()\n",
    "\n",
    "    latest = logs[-1]\n",
    "    matches = json.loads(latest)['matches']\n",
    "\n",
    "    matches_df = []\n",
    "    for match in matches:\n",
    "        matches_df.append({\n",
    "            'start_at': match['start_date'],\n",
    "            'end_at': match['end_date'],\n",
    "            'game_id': match['game_id'],\n",
    "        })\n",
    "\n",
    "    matches_df = pd.DataFrame(matches_df)\n",
    "    matches_df['start_at'] = pd.to_datetime(matches_df['start_at'])\n",
    "    matches_df['end_at'] = pd.to_datetime(matches_df['end_at'])\n",
    "\n",
    "    live_matches = matches_df[\n",
    "        (now >= matches_df[\"start_at\"] - datetime.timedelta(minutes = 15)) &\n",
    "        (now <= matches_df[\"end_at\"] + datetime.timedelta(minutes = 30))\n",
    "    ]\n",
    "    game_ids = list(live_matches['game_id'].values)\n",
    "    return(game_ids)"
   ]
  },
  {
   "cell_type": "code",
   "execution_count": null,
   "id": "5c498cd9",
   "metadata": {},
   "outputs": [],
   "source": []
  },
  {
   "cell_type": "code",
   "execution_count": null,
   "id": "536ae4de",
   "metadata": {},
   "outputs": [],
   "source": [
    "#| hide\n",
    "import nbdev; nbdev.nbdev_export()"
   ]
  },
  {
   "cell_type": "code",
   "execution_count": null,
   "id": "d957cbe6",
   "metadata": {},
   "outputs": [],
   "source": []
  }
 ],
 "metadata": {
  "kernelspec": {
   "display_name": "python3",
   "language": "python",
   "name": "python3"
  }
 },
 "nbformat": 4,
 "nbformat_minor": 5
}
