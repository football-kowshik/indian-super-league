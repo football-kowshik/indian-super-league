{
 "cells": [
  {
   "cell_type": "code",
   "execution_count": null,
   "id": "22d443c4",
   "metadata": {},
   "outputs": [],
   "source": [
    "#| hide\n",
    "#| default_exp wallstream"
   ]
  },
  {
   "cell_type": "markdown",
   "id": "da2456a9",
   "metadata": {},
   "source": [
    "# Wallstream\n",
    "\n",
    "> Match commentary."
   ]
  },
  {
   "cell_type": "code",
   "execution_count": null,
   "id": "bd858efd",
   "metadata": {},
   "outputs": [],
   "source": [
    "#| hide\n",
    "from nbdev.showdoc import *"
   ]
  },
  {
   "cell_type": "code",
   "execution_count": null,
   "id": "b94e36dd",
   "metadata": {},
   "outputs": [],
   "source": [
    "#| export\n",
    "\n",
    "import warnings\n",
    "warnings.filterwarnings('ignore')\n",
    "\n",
    "import json\n",
    "\n",
    "\n",
    "import logging\n",
    "import os\n",
    "import requests\n",
    "from pathlib import Path\n",
    "\n",
    "from indian_super_league.constants import *\n",
    "from indian_super_league.matches import *"
   ]
  },
  {
   "cell_type": "code",
   "execution_count": null,
   "id": "d81355d9",
   "metadata": {},
   "outputs": [],
   "source": []
  },
  {
   "cell_type": "code",
   "execution_count": null,
   "id": "a5c680a0",
   "metadata": {},
   "outputs": [],
   "source": [
    "#| export\n",
    "def fetch_wallstream(match_id):\n",
    "    url = f\"https://www.indiansuperleague.com/functions/wallstream/?sport_id=2&client_id=5KEUfrMT/+2lgecJyh42zA==&match_id={match_id}\"\n",
    "    headers = {\n",
    "        'accept': '*/*',\n",
    "        'referer': 'https://www.indiansuperleague.com/',\n",
    "        'user-agent': 'Mozilla/5.0 (Macintosh; Intel Mac OS X 10_15_7) AppleWebKit/537.36 (KHTML, like Gecko) Chrome/128.0.0.0 Safari/537.36'\n",
    "    }\n",
    "    response = requests.get(url, headers=headers)\n",
    "\n",
    "    if response.status_code == 200:\n",
    "        logging.info('API request successful. Content length: {}'.format(len(response.content)))\n",
    "        return response.text\n",
    "    else:\n",
    "        logging.error('API request failed. Status code: {}'.format(response.status_code))\n",
    "        return None"
   ]
  },
  {
   "cell_type": "code",
   "execution_count": null,
   "id": "82f3b47b",
   "metadata": {},
   "outputs": [],
   "source": [
    "#| eval: false\n",
    "#| output: false\n",
    "match_wallstream = fetch_wallstream(match_id = sample_match_id)\n",
    "print(json.dumps(json.loads(match_wallstream), indent = 4))"
   ]
  },
  {
   "cell_type": "code",
   "execution_count": null,
   "id": "bd95e399",
   "metadata": {},
   "outputs": [],
   "source": []
  },
  {
   "cell_type": "code",
   "execution_count": null,
   "id": "af0bfc8b",
   "metadata": {},
   "outputs": [],
   "source": [
    "#| export\n",
    "def save_wallstream(wallstream, filepath):\n",
    "    if wallstream:\n",
    "        os.makedirs(os.path.dirname(filepath), exist_ok=True)\n",
    "        with open(filepath, 'a') as f:\n",
    "            f.write(wallstream + \"\\n\")"
   ]
  },
  {
   "cell_type": "code",
   "execution_count": null,
   "id": "dc0b9684",
   "metadata": {},
   "outputs": [],
   "source": [
    "#| eval: false\n",
    "#| output: false\n",
    "filepath = data_dir / f'wallstream/{sample_match_id}.txt'\n",
    "save_wallstream(match_wallstream, filepath)"
   ]
  },
  {
   "cell_type": "code",
   "execution_count": null,
   "id": "a772b742",
   "metadata": {},
   "outputs": [],
   "source": []
  },
  {
   "cell_type": "code",
   "execution_count": null,
   "id": "03620835",
   "metadata": {},
   "outputs": [],
   "source": [
    "#| export\n",
    "#| eval: false\n",
    "#| output: false\n",
    "filepath = data_dir / 'matches.txt'\n",
    "match_ids = get_live_matches(filepath)\n",
    "logging.info('Live matches: {} [{}]'.format(len(match_ids), ', '.join(match_ids)))\n",
    "\n",
    "for match_id in match_ids:\n",
    "    match_wallstream = fetch_wallstream(match_id)\n",
    "    filepath = data_dir / f'wallstream/{match_id}.txt'\n",
    "    save_wallstream(match_wallstream, filepath)"
   ]
  },
  {
   "cell_type": "code",
   "execution_count": null,
   "id": "09912152",
   "metadata": {},
   "outputs": [],
   "source": []
  },
  {
   "cell_type": "code",
   "execution_count": null,
   "id": "20d5426b",
   "metadata": {},
   "outputs": [],
   "source": [
    "#| hide\n",
    "import nbdev; nbdev.nbdev_export()"
   ]
  },
  {
   "cell_type": "code",
   "execution_count": null,
   "id": "e595cbab",
   "metadata": {},
   "outputs": [],
   "source": []
  }
 ],
 "metadata": {
  "kernelspec": {
   "display_name": "python3",
   "language": "python",
   "name": "python3"
  }
 },
 "nbformat": 4,
 "nbformat_minor": 5
}
