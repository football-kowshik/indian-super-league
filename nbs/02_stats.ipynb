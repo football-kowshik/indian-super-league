{
 "cells": [
  {
   "cell_type": "code",
   "execution_count": null,
   "id": "a45194b4",
   "metadata": {},
   "outputs": [],
   "source": [
    "#| hide\n",
    "#| default_exp stats"
   ]
  },
  {
   "cell_type": "markdown",
   "id": "958f6995",
   "metadata": {},
   "source": [
    "# Stats\n",
    "\n",
    "> Live stats of ISL matches."
   ]
  },
  {
   "cell_type": "code",
   "execution_count": null,
   "id": "a88c9b3f",
   "metadata": {},
   "outputs": [],
   "source": [
    "#| hide\n",
    "from nbdev.showdoc import *"
   ]
  },
  {
   "cell_type": "code",
   "execution_count": null,
   "id": "216695c1",
   "metadata": {},
   "outputs": [],
   "source": [
    "#| export\n",
    "import warnings\n",
    "warnings.filterwarnings('ignore')\n",
    "\n",
    "import json\n",
    "import logging\n",
    "import os\n",
    "import requests\n",
    "from pathlib import Path\n",
    "\n",
    "from indian_super_league.constants import *\n",
    "from indian_super_league.matches import *"
   ]
  },
  {
   "cell_type": "code",
   "execution_count": null,
   "id": "0c0b0329",
   "metadata": {},
   "outputs": [],
   "source": []
  },
  {
   "cell_type": "code",
   "execution_count": null,
   "id": "fdc74ff7",
   "metadata": {},
   "outputs": [],
   "source": [
    "#| export\n",
    "def fetch_match_stats(match_id):\n",
    "    url = f'https://www.indiansuperleague.com/football/live/india_sl_stats/json/{match_id}.json'\n",
    "    headers = {\n",
    "        'accept': '*/*',\n",
    "        'referer': 'https://www.indiansuperleague.com/',\n",
    "        'user-agent': 'Mozilla/5.0 (Macintosh; Intel Mac OS X 10_15_7) AppleWebKit/537.36 (KHTML, like Gecko) Chrome/128.0.0.0 Safari/537.36'\n",
    "    }\n",
    "    response = requests.get(url, headers=headers)\n",
    "\n",
    "    if response.status_code == 200:\n",
    "        logging.info('API request successful. Content length: {}'.format(len(response.content)))\n",
    "        return response.text\n",
    "    else:\n",
    "        logging.error('API request failed. Status code: {}'.format(response.status_code))\n",
    "        return None"
   ]
  },
  {
   "cell_type": "code",
   "execution_count": null,
   "id": "c37113bd",
   "metadata": {},
   "outputs": [],
   "source": [
    "#| eval: false\n",
    "#| output: false\n",
    "match_stats = fetch_match_stats(match_id = sample_match_id)\n",
    "print(json.dumps(json.loads(match_stats), indent = 4))"
   ]
  },
  {
   "cell_type": "code",
   "execution_count": null,
   "id": "dde5cb2c",
   "metadata": {},
   "outputs": [],
   "source": []
  },
  {
   "cell_type": "code",
   "execution_count": null,
   "id": "fb5747ab",
   "metadata": {},
   "outputs": [],
   "source": [
    "#| export\n",
    "def save_match_stats(stats, filepath):\n",
    "    if stats:\n",
    "        os.makedirs(os.path.dirname(filepath), exist_ok=True)\n",
    "        with open(filepath, 'a') as f:\n",
    "            f.write(stats + \"\\n\")"
   ]
  },
  {
   "cell_type": "code",
   "execution_count": null,
   "id": "b4ff8d2c",
   "metadata": {},
   "outputs": [],
   "source": [
    "#| eval: false\n",
    "#| output: false\n",
    "filepath = data_dir / f'stats/{sample_match_id}.txt'\n",
    "save_match_stats(match_stats, filepath)"
   ]
  },
  {
   "cell_type": "code",
   "execution_count": null,
   "id": "ccd51a9f",
   "metadata": {},
   "outputs": [],
   "source": []
  },
  {
   "cell_type": "code",
   "execution_count": null,
   "id": "174cb4d6",
   "metadata": {},
   "outputs": [],
   "source": [
    "#| export\n",
    "#| eval: false\n",
    "#| output: false\n",
    "filepath = data_dir / 'matches.txt'\n",
    "match_ids = get_live_matches(filepath)\n",
    "logging.info('Live matches: {} [{}]'.format(len(match_ids), ', '.join(str(item) for item in match_ids)))\n",
    "\n",
    "for match_id in match_ids:\n",
    "    match_stats = fetch_match_stats(match_id)\n",
    "    filepath = data_dir / f'stats/{match_id}.txt'\n",
    "    save_match_stats(match_stats, filepath)"
   ]
  },
  {
   "cell_type": "code",
   "execution_count": null,
   "id": "cdd7e99c",
   "metadata": {},
   "outputs": [],
   "source": []
  },
  {
   "cell_type": "code",
   "execution_count": null,
   "id": "74f8d0b1",
   "metadata": {},
   "outputs": [],
   "source": [
    "#| hide\n",
    "import nbdev; nbdev.nbdev_export()"
   ]
  }
 ],
 "metadata": {
  "kernelspec": {
   "display_name": "python3",
   "language": "python",
   "name": "python3"
  }
 },
 "nbformat": 4,
 "nbformat_minor": 5
}
